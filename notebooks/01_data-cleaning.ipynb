{
 "cells": [
  {
   "cell_type": "code",
   "execution_count": 1,
   "metadata": {},
   "outputs": [],
   "source": [
    "import os\n",
    "import warnings\n",
    "import pandas as pd\n",
    "import numpy as np\n",
    "import missingno as msno\n",
    "import matplotlib.pyplot as plt\n",
    "\n",
    "\n",
    "warnings.filterwarnings('ignore')"
   ]
  },
  {
   "cell_type": "markdown",
   "metadata": {},
   "source": [
    "## Funções"
   ]
  },
  {
   "cell_type": "code",
   "execution_count": 2,
   "metadata": {},
   "outputs": [],
   "source": [
    "def aux(df):\n",
    "    \n",
    "    \n",
    "    '''\n",
    "    in: DataFrame;\n",
    "    out: DataFrame auxiliar\n",
    "    '''\n",
    "    \n",
    "    \n",
    "    df_aux = pd.DataFrame({'colunas' : df.columns,\n",
    "                    'tipo': df.dtypes,\n",
    "                    'missing' : df.isna().sum(),\n",
    "                    'size' : df.shape[0],\n",
    "                    'unicos': df.nunique()})\n",
    "    df_aux['percentual%'] = round(df_aux['missing'] / df_aux['size'],3)*100\n",
    "\n",
    "    \n",
    "    return df_aux"
   ]
  },
  {
   "cell_type": "markdown",
   "metadata": {},
   "source": [
    "## Sumário\n",
    "\n",
    "1. [Descrição do dataset](#description)\n",
    "2. [Ingestão dos dados](#ingestion)\n",
    "3. [Análise expoloratória inicial](#eda)\n",
    "4. [Outliers](#out)\n",
    "5. [Salvando bases](#save)\n",
    "6. [Considerações](#cons)"
   ]
  },
  {
   "cell_type": "markdown",
   "metadata": {},
   "source": [
    "## Descrição do dataset\n",
    "\n",
    "* **idade**: A idade do cliente.\n",
    "\n",
    "* **numero_de_dependentes**: O número de pessoas dependentes do cliente.\n",
    "\n",
    "* **salario_mensal**: Salário mensal do cliente.\n",
    "\n",
    "* **numero_emprestimos_imobiliarios**: Quantidade de empréstimos imobiliários que o cliente possui em aberto.\n",
    "\n",
    "* **numero_vezes_passou_90_dias**: Número de vezes que o tomador passou mais de 90 dias em atraso.\n",
    "\n",
    "* **util_linhas_inseguras**: Quanto que o cliente está usando, relativamente ao limite dele, de linhas de crédito que não são seguradas por qualquer bem do tomador e.g: imoveis, carros etc.\n",
    "\n",
    "* **vezes_passou_de_30_59_dias**: Número de vezes que o cliente atrasou, entre 30 e 59 dias, o pagamento de um empréstimo.\n",
    "\n",
    "* **razao_debito**: Razão entre as dívidas e o patrimônio do tomador. razão débito = Dividas/Patrimônio\n",
    "\n",
    "* **numero_linhas_crdto_aberto**: Número de empréstimos em aberto pelo cliente.\n",
    "\n",
    "* **numero_de_vezes_que_passou_60_89_dias**: Número de vezes que o cliente atrasou, entre 60 e 89 dias, o pagamento de um empréstimo.\n",
    "\n",
    "> Obs: Estes dados são fictícios, portanto é possível que existam incoerências, o que é perfeitamente comum em dados reais."
   ]
  },
  {
   "cell_type": "markdown",
   "metadata": {},
   "source": [
    "## Ingestão dos dados"
   ]
  },
  {
   "cell_type": "code",
   "execution_count": 3,
   "metadata": {},
   "outputs": [],
   "source": [
    "DATA_RAW_PATH = os.path.join('..','data','raw')\n",
    "DATA_RAW_NAME = 'treino.csv'\n",
    "DATA_RAW_NAME_TEST = 'teste.csv'\n",
    "DATA_INTER_PATH = os.path.join('..','data','interim')\n",
    "DATA_INTER_PROCESSED = os.path.join('..', 'data', 'processed')\n",
    "DATA_INTER_TRAIN_NAME = 'df_train.csv'\n",
    "IMG_PATH = os.path.abspath(os.path.join('..','reports', 'figures'))"
   ]
  },
  {
   "cell_type": "code",
   "execution_count": 4,
   "metadata": {},
   "outputs": [],
   "source": [
    "df_raw = pd.read_csv(os.path.join(DATA_RAW_PATH,DATA_RAW_NAME))"
   ]
  },
  {
   "cell_type": "markdown",
   "metadata": {},
   "source": [
    "## Análise exploratória inicial"
   ]
  },
  {
   "cell_type": "code",
   "execution_count": 5,
   "metadata": {},
   "outputs": [
    {
     "data": {
      "text/html": [
       "<div>\n",
       "<style scoped>\n",
       "    .dataframe tbody tr th:only-of-type {\n",
       "        vertical-align: middle;\n",
       "    }\n",
       "\n",
       "    .dataframe tbody tr th {\n",
       "        vertical-align: top;\n",
       "    }\n",
       "\n",
       "    .dataframe thead th {\n",
       "        text-align: right;\n",
       "    }\n",
       "</style>\n",
       "<table border=\"1\" class=\"dataframe\">\n",
       "  <thead>\n",
       "    <tr style=\"text-align: right;\">\n",
       "      <th></th>\n",
       "      <th>colunas</th>\n",
       "      <th>tipo</th>\n",
       "      <th>missing</th>\n",
       "      <th>size</th>\n",
       "      <th>unicos</th>\n",
       "      <th>percentual%</th>\n",
       "    </tr>\n",
       "  </thead>\n",
       "  <tbody>\n",
       "    <tr>\n",
       "      <th>inadimplente</th>\n",
       "      <td>inadimplente</td>\n",
       "      <td>int64</td>\n",
       "      <td>0</td>\n",
       "      <td>110000</td>\n",
       "      <td>2</td>\n",
       "      <td>0.0</td>\n",
       "    </tr>\n",
       "    <tr>\n",
       "      <th>util_linhas_inseguras</th>\n",
       "      <td>util_linhas_inseguras</td>\n",
       "      <td>float64</td>\n",
       "      <td>0</td>\n",
       "      <td>110000</td>\n",
       "      <td>92671</td>\n",
       "      <td>0.0</td>\n",
       "    </tr>\n",
       "    <tr>\n",
       "      <th>idade</th>\n",
       "      <td>idade</td>\n",
       "      <td>int64</td>\n",
       "      <td>0</td>\n",
       "      <td>110000</td>\n",
       "      <td>86</td>\n",
       "      <td>0.0</td>\n",
       "    </tr>\n",
       "    <tr>\n",
       "      <th>vezes_passou_de_30_59_dias</th>\n",
       "      <td>vezes_passou_de_30_59_dias</td>\n",
       "      <td>int64</td>\n",
       "      <td>0</td>\n",
       "      <td>110000</td>\n",
       "      <td>15</td>\n",
       "      <td>0.0</td>\n",
       "    </tr>\n",
       "    <tr>\n",
       "      <th>razao_debito</th>\n",
       "      <td>razao_debito</td>\n",
       "      <td>float64</td>\n",
       "      <td>0</td>\n",
       "      <td>110000</td>\n",
       "      <td>86002</td>\n",
       "      <td>0.0</td>\n",
       "    </tr>\n",
       "    <tr>\n",
       "      <th>salario_mensal</th>\n",
       "      <td>salario_mensal</td>\n",
       "      <td>float64</td>\n",
       "      <td>21763</td>\n",
       "      <td>110000</td>\n",
       "      <td>12228</td>\n",
       "      <td>19.8</td>\n",
       "    </tr>\n",
       "    <tr>\n",
       "      <th>numero_linhas_crdto_aberto</th>\n",
       "      <td>numero_linhas_crdto_aberto</td>\n",
       "      <td>int64</td>\n",
       "      <td>0</td>\n",
       "      <td>110000</td>\n",
       "      <td>57</td>\n",
       "      <td>0.0</td>\n",
       "    </tr>\n",
       "    <tr>\n",
       "      <th>numero_vezes_passou_90_dias</th>\n",
       "      <td>numero_vezes_passou_90_dias</td>\n",
       "      <td>int64</td>\n",
       "      <td>0</td>\n",
       "      <td>110000</td>\n",
       "      <td>18</td>\n",
       "      <td>0.0</td>\n",
       "    </tr>\n",
       "    <tr>\n",
       "      <th>numero_emprestimos_imobiliarios</th>\n",
       "      <td>numero_emprestimos_imobiliarios</td>\n",
       "      <td>int64</td>\n",
       "      <td>0</td>\n",
       "      <td>110000</td>\n",
       "      <td>28</td>\n",
       "      <td>0.0</td>\n",
       "    </tr>\n",
       "    <tr>\n",
       "      <th>numero_de_vezes_que_passou_60_89_dias</th>\n",
       "      <td>numero_de_vezes_que_passou_60_89_dias</td>\n",
       "      <td>int64</td>\n",
       "      <td>0</td>\n",
       "      <td>110000</td>\n",
       "      <td>13</td>\n",
       "      <td>0.0</td>\n",
       "    </tr>\n",
       "    <tr>\n",
       "      <th>numero_de_dependentes</th>\n",
       "      <td>numero_de_dependentes</td>\n",
       "      <td>float64</td>\n",
       "      <td>2878</td>\n",
       "      <td>110000</td>\n",
       "      <td>12</td>\n",
       "      <td>2.6</td>\n",
       "    </tr>\n",
       "  </tbody>\n",
       "</table>\n",
       "</div>"
      ],
      "text/plain": [
       "                                                                     colunas  \\\n",
       "inadimplente                                                    inadimplente   \n",
       "util_linhas_inseguras                                  util_linhas_inseguras   \n",
       "idade                                                                  idade   \n",
       "vezes_passou_de_30_59_dias                        vezes_passou_de_30_59_dias   \n",
       "razao_debito                                                    razao_debito   \n",
       "salario_mensal                                                salario_mensal   \n",
       "numero_linhas_crdto_aberto                        numero_linhas_crdto_aberto   \n",
       "numero_vezes_passou_90_dias                      numero_vezes_passou_90_dias   \n",
       "numero_emprestimos_imobiliarios              numero_emprestimos_imobiliarios   \n",
       "numero_de_vezes_que_passou_60_89_dias  numero_de_vezes_que_passou_60_89_dias   \n",
       "numero_de_dependentes                                  numero_de_dependentes   \n",
       "\n",
       "                                          tipo  missing    size  unicos  \\\n",
       "inadimplente                             int64        0  110000       2   \n",
       "util_linhas_inseguras                  float64        0  110000   92671   \n",
       "idade                                    int64        0  110000      86   \n",
       "vezes_passou_de_30_59_dias               int64        0  110000      15   \n",
       "razao_debito                           float64        0  110000   86002   \n",
       "salario_mensal                         float64    21763  110000   12228   \n",
       "numero_linhas_crdto_aberto               int64        0  110000      57   \n",
       "numero_vezes_passou_90_dias              int64        0  110000      18   \n",
       "numero_emprestimos_imobiliarios          int64        0  110000      28   \n",
       "numero_de_vezes_que_passou_60_89_dias    int64        0  110000      13   \n",
       "numero_de_dependentes                  float64     2878  110000      12   \n",
       "\n",
       "                                       percentual%  \n",
       "inadimplente                                   0.0  \n",
       "util_linhas_inseguras                          0.0  \n",
       "idade                                          0.0  \n",
       "vezes_passou_de_30_59_dias                     0.0  \n",
       "razao_debito                                   0.0  \n",
       "salario_mensal                                19.8  \n",
       "numero_linhas_crdto_aberto                     0.0  \n",
       "numero_vezes_passou_90_dias                    0.0  \n",
       "numero_emprestimos_imobiliarios                0.0  \n",
       "numero_de_vezes_que_passou_60_89_dias          0.0  \n",
       "numero_de_dependentes                          2.6  "
      ]
     },
     "execution_count": 5,
     "metadata": {},
     "output_type": "execute_result"
    }
   ],
   "source": [
    "aux(df_raw)"
   ]
  },
  {
   "cell_type": "code",
   "execution_count": 6,
   "metadata": {},
   "outputs": [
    {
     "name": "stdout",
     "output_type": "stream",
     "text": [
      "Há 363 valores duplicados.\n",
      "Excluindo...\n",
      "Linhas duplicadas removidas.\n"
     ]
    }
   ],
   "source": [
    "if (df_raw.duplicated().sum() != 0):\n",
    "    print(f'Há {df_raw.duplicated().sum()} valores duplicados.')\n",
    "    print('Excluindo...')\n",
    "    df_raw.drop_duplicates(inplace=True)\n",
    "    print('Linhas duplicadas removidas.')\n",
    "else:\n",
    "    print('Não existe valores duplicados.')"
   ]
  },
  {
   "cell_type": "code",
   "execution_count": 7,
   "metadata": {},
   "outputs": [
    {
     "data": {
      "image/png": "[encoded data removed]",
      "text/plain": [
       "<Figure size 1800x720 with 2 Axes>"
      ]
     },
     "metadata": {
      "needs_background": "light"
     },
     "output_type": "display_data"
    }
   ],
   "source": [
    "msno.matrix(df_raw)\n",
    "\n",
    "plt.savefig(os.path.join(IMG_PATH,'relacao-missing-values.png'), format='png')"
   ]
  },
  {
   "cell_type": "code",
   "execution_count": 8,
   "metadata": {},
   "outputs": [
    {
     "data": {
      "text/plain": [
       "int64      7\n",
       "float64    4\n",
       "dtype: int64"
      ]
     },
     "execution_count": 8,
     "metadata": {},
     "output_type": "execute_result"
    }
   ],
   "source": [
    "df_raw.dtypes.value_counts()"
   ]
  },
  {
   "cell_type": "code",
   "execution_count": 9,
   "metadata": {},
   "outputs": [
    {
     "data": {
      "text/html": [
       "<div>\n",
       "<style scoped>\n",
       "    .dataframe tbody tr th:only-of-type {\n",
       "        vertical-align: middle;\n",
       "    }\n",
       "\n",
       "    .dataframe tbody tr th {\n",
       "        vertical-align: top;\n",
       "    }\n",
       "\n",
       "    .dataframe thead th {\n",
       "        text-align: right;\n",
       "    }\n",
       "</style>\n",
       "<table border=\"1\" class=\"dataframe\">\n",
       "  <thead>\n",
       "    <tr style=\"text-align: right;\">\n",
       "      <th></th>\n",
       "      <th>inadimplente</th>\n",
       "      <th>util_linhas_inseguras</th>\n",
       "      <th>idade</th>\n",
       "      <th>vezes_passou_de_30_59_dias</th>\n",
       "      <th>razao_debito</th>\n",
       "      <th>salario_mensal</th>\n",
       "      <th>numero_linhas_crdto_aberto</th>\n",
       "      <th>numero_vezes_passou_90_dias</th>\n",
       "      <th>numero_emprestimos_imobiliarios</th>\n",
       "      <th>numero_de_vezes_que_passou_60_89_dias</th>\n",
       "      <th>numero_de_dependentes</th>\n",
       "    </tr>\n",
       "  </thead>\n",
       "  <tbody>\n",
       "    <tr>\n",
       "      <th>count</th>\n",
       "      <td>109637.000000</td>\n",
       "      <td>109637.000000</td>\n",
       "      <td>109637.000000</td>\n",
       "      <td>109637.000000</td>\n",
       "      <td>109637.000000</td>\n",
       "      <td>8.817700e+04</td>\n",
       "      <td>109637.000000</td>\n",
       "      <td>109637.000000</td>\n",
       "      <td>109637.000000</td>\n",
       "      <td>109637.000000</td>\n",
       "      <td>106816.000000</td>\n",
       "    </tr>\n",
       "    <tr>\n",
       "      <th>mean</th>\n",
       "      <td>0.066748</td>\n",
       "      <td>5.947980</td>\n",
       "      <td>52.267501</td>\n",
       "      <td>0.400431</td>\n",
       "      <td>355.993282</td>\n",
       "      <td>6.641456e+03</td>\n",
       "      <td>8.468656</td>\n",
       "      <td>0.245756</td>\n",
       "      <td>1.023268</td>\n",
       "      <td>0.219670</td>\n",
       "      <td>0.759624</td>\n",
       "    </tr>\n",
       "    <tr>\n",
       "      <th>std</th>\n",
       "      <td>0.249585</td>\n",
       "      <td>252.719105</td>\n",
       "      <td>14.729568</td>\n",
       "      <td>3.951084</td>\n",
       "      <td>2077.470901</td>\n",
       "      <td>1.338760e+04</td>\n",
       "      <td>5.131074</td>\n",
       "      <td>3.924871</td>\n",
       "      <td>1.136349</td>\n",
       "      <td>3.910491</td>\n",
       "      <td>1.115525</td>\n",
       "    </tr>\n",
       "    <tr>\n",
       "      <th>min</th>\n",
       "      <td>0.000000</td>\n",
       "      <td>0.000000</td>\n",
       "      <td>0.000000</td>\n",
       "      <td>0.000000</td>\n",
       "      <td>0.000000</td>\n",
       "      <td>0.000000e+00</td>\n",
       "      <td>0.000000</td>\n",
       "      <td>0.000000</td>\n",
       "      <td>0.000000</td>\n",
       "      <td>0.000000</td>\n",
       "      <td>0.000000</td>\n",
       "    </tr>\n",
       "    <tr>\n",
       "      <th>25%</th>\n",
       "      <td>0.000000</td>\n",
       "      <td>0.030284</td>\n",
       "      <td>41.000000</td>\n",
       "      <td>0.000000</td>\n",
       "      <td>0.176820</td>\n",
       "      <td>3.400000e+03</td>\n",
       "      <td>5.000000</td>\n",
       "      <td>0.000000</td>\n",
       "      <td>0.000000</td>\n",
       "      <td>0.000000</td>\n",
       "      <td>0.000000</td>\n",
       "    </tr>\n",
       "    <tr>\n",
       "      <th>50%</th>\n",
       "      <td>0.000000</td>\n",
       "      <td>0.155958</td>\n",
       "      <td>52.000000</td>\n",
       "      <td>0.000000</td>\n",
       "      <td>0.367923</td>\n",
       "      <td>5.400000e+03</td>\n",
       "      <td>8.000000</td>\n",
       "      <td>0.000000</td>\n",
       "      <td>1.000000</td>\n",
       "      <td>0.000000</td>\n",
       "      <td>0.000000</td>\n",
       "    </tr>\n",
       "    <tr>\n",
       "      <th>75%</th>\n",
       "      <td>0.000000</td>\n",
       "      <td>0.560236</td>\n",
       "      <td>63.000000</td>\n",
       "      <td>0.000000</td>\n",
       "      <td>0.871880</td>\n",
       "      <td>8.233000e+03</td>\n",
       "      <td>11.000000</td>\n",
       "      <td>0.000000</td>\n",
       "      <td>2.000000</td>\n",
       "      <td>0.000000</td>\n",
       "      <td>1.000000</td>\n",
       "    </tr>\n",
       "    <tr>\n",
       "      <th>max</th>\n",
       "      <td>1.000000</td>\n",
       "      <td>50708.000000</td>\n",
       "      <td>109.000000</td>\n",
       "      <td>98.000000</td>\n",
       "      <td>329664.000000</td>\n",
       "      <td>3.008750e+06</td>\n",
       "      <td>58.000000</td>\n",
       "      <td>98.000000</td>\n",
       "      <td>54.000000</td>\n",
       "      <td>98.000000</td>\n",
       "      <td>20.000000</td>\n",
       "    </tr>\n",
       "  </tbody>\n",
       "</table>\n",
       "</div>"
      ],
      "text/plain": [
       "        inadimplente  util_linhas_inseguras          idade  \\\n",
       "count  109637.000000          109637.000000  109637.000000   \n",
       "mean        0.066748               5.947980      52.267501   \n",
       "std         0.249585             252.719105      14.729568   \n",
       "min         0.000000               0.000000       0.000000   \n",
       "25%         0.000000               0.030284      41.000000   \n",
       "50%         0.000000               0.155958      52.000000   \n",
       "75%         0.000000               0.560236      63.000000   \n",
       "max         1.000000           50708.000000     109.000000   \n",
       "\n",
       "       vezes_passou_de_30_59_dias   razao_debito  salario_mensal  \\\n",
       "count               109637.000000  109637.000000    8.817700e+04   \n",
       "mean                     0.400431     355.993282    6.641456e+03   \n",
       "std                      3.951084    2077.470901    1.338760e+04   \n",
       "min                      0.000000       0.000000    0.000000e+00   \n",
       "25%                      0.000000       0.176820    3.400000e+03   \n",
       "50%                      0.000000       0.367923    5.400000e+03   \n",
       "75%                      0.000000       0.871880    8.233000e+03   \n",
       "max                     98.000000  329664.000000    3.008750e+06   \n",
       "\n",
       "       numero_linhas_crdto_aberto  numero_vezes_passou_90_dias  \\\n",
       "count               109637.000000                109637.000000   \n",
       "mean                     8.468656                     0.245756   \n",
       "std                      5.131074                     3.924871   \n",
       "min                      0.000000                     0.000000   \n",
       "25%                      5.000000                     0.000000   \n",
       "50%                      8.000000                     0.000000   \n",
       "75%                     11.000000                     0.000000   \n",
       "max                     58.000000                    98.000000   \n",
       "\n",
       "       numero_emprestimos_imobiliarios  numero_de_vezes_que_passou_60_89_dias  \\\n",
       "count                    109637.000000                          109637.000000   \n",
       "mean                          1.023268                               0.219670   \n",
       "std                           1.136349                               3.910491   \n",
       "min                           0.000000                               0.000000   \n",
       "25%                           0.000000                               0.000000   \n",
       "50%                           1.000000                               0.000000   \n",
       "75%                           2.000000                               0.000000   \n",
       "max                          54.000000                              98.000000   \n",
       "\n",
       "       numero_de_dependentes  \n",
       "count          106816.000000  \n",
       "mean                0.759624  \n",
       "std                 1.115525  \n",
       "min                 0.000000  \n",
       "25%                 0.000000  \n",
       "50%                 0.000000  \n",
       "75%                 1.000000  \n",
       "max                20.000000  "
      ]
     },
     "execution_count": 9,
     "metadata": {},
     "output_type": "execute_result"
    }
   ],
   "source": [
    "df_raw.describe()"
   ]
  },
  {
   "cell_type": "markdown",
   "metadata": {},
   "source": [
    "## Outliers"
   ]
  },
  {
   "cell_type": "code",
   "execution_count": 10,
   "metadata": {},
   "outputs": [
    {
     "data": {
      "text/plain": [
       "util_linhas_inseguras       0.529951\n",
       "idade                      22.000000\n",
       "razao_debito                0.695060\n",
       "salario_mensal           4833.000000\n",
       "dtype: float64"
      ]
     },
     "execution_count": 10,
     "metadata": {},
     "output_type": "execute_result"
    }
   ],
   "source": [
    "Q1 = df_raw.drop(columns=['inadimplente','numero_emprestimos_imobiliarios', 'numero_de_dependentes','vezes_passou_de_30_59_dias', 'numero_linhas_crdto_aberto','numero_vezes_passou_90_dias', 'numero_de_vezes_que_passou_60_89_dias']).quantile(0.25)\n",
    "Q3 = df_raw.drop(columns=['inadimplente','numero_emprestimos_imobiliarios', 'numero_de_dependentes','vezes_passou_de_30_59_dias', 'numero_linhas_crdto_aberto','numero_vezes_passou_90_dias', 'numero_de_vezes_que_passou_60_89_dias']).quantile(0.75)\n",
    "IQR = Q3 - Q1\n",
    "IQR"
   ]
  },
  {
   "cell_type": "code",
   "execution_count": 11,
   "metadata": {},
   "outputs": [],
   "source": [
    "df_raw = df_raw[~((df_raw < (Q1 - 1.5 * IQR)) | (df_raw > (Q3 + 1.5 * IQR))).any(axis=1)]"
   ]
  },
  {
   "cell_type": "markdown",
   "metadata": {},
   "source": [
    "## Salvando bases"
   ]
  },
  {
   "cell_type": "code",
   "execution_count": 12,
   "metadata": {},
   "outputs": [],
   "source": [
    "df_raw.to_csv(os.path.join(DATA_INTER_PATH,DATA_INTER_TRAIN_NAME), index=False)"
   ]
  },
  {
   "cell_type": "markdown",
   "metadata": {},
   "source": [
    "## Considerações\n",
    "\n",
    "* Há valores missing nas variáveis **salario_mensal** e **numero_de_depedentes**;\n",
    "* Há pessoas com idade 0 que foram eliminadas no corte de outliers;\n",
    "* O **salário_mensal** vai de 0 até R$3.008.750,00."
   ]
  },
  {
   "cell_type": "code",
   "execution_count": null,
   "metadata": {},
   "outputs": [],
   "source": []
  }
 ],
 "metadata": {
  "kernelspec": {
   "display_name": "Python 3",
   "language": "python",
   "name": "python3"
  },
  "language_info": {
   "codemirror_mode": {
    "name": "ipython",
    "version": 3
   },
   "file_extension": ".py",
   "mimetype": "text/x-python",
   "name": "python",
   "nbconvert_exporter": "python",
   "pygments_lexer": "ipython3",
   "version": "3.7.10"
  }
 },
 "nbformat": 4,
 "nbformat_minor": 4
}
